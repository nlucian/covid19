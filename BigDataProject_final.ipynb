{
 "cells": [
  {
   "cell_type": "code",
   "execution_count": 1,
   "metadata": {
    "ExecuteTime": {
     "end_time": "2020-05-05T23:08:59.054183Z",
     "start_time": "2020-05-05T23:08:59.047063Z"
    }
   },
   "outputs": [],
   "source": [
    "import json\n",
    "import sys\n",
    "\n",
    "from datetime import datetime\n",
    "\n",
    "import math\n",
    "import mplcyberpunk\n",
    "\n",
    "\n",
    "import numpy as np\n",
    "import pandas as pd\n",
    "\n",
    "from urllib.request import urlopen\n",
    "import matplotlib.pyplot as plt\n",
    "import matplotlib.dates as mdates\n",
    "import ipywidgets as widgets\n",
    "\n",
    "# maps\n",
    "import folium\n",
    "import gmaps.geojson_geometries\n",
    "\n",
    "# cyberpunk custom styling\n",
    "import mplcyberpunk"
   ]
  },
  {
   "cell_type": "markdown",
   "metadata": {},
   "source": [
    "If you wish to run this locally you will need the source file which can be found at <a href=\"https://github.com/nlucian/covid19/blob/master/BigDataProject_final.ipynb\" > github repo </a>"
   ]
  },
  {
   "cell_type": "markdown",
   "metadata": {
    "ExecuteTime": {
     "end_time": "2020-05-02T19:19:40.347360Z",
     "start_time": "2020-05-02T19:19:40.343558Z"
    }
   },
   "source": [
    "### prerequisites  for running locally\n",
    "\n",
    "conda install -c conda-forge voila <br/>\n",
    "conda install folium -c conda-forge <br/>\n",
    "conda install -c conda-forge gmaps <br/>\n",
    "<br/>\n",
    "pip install mplcyberpunk\n",
    "conda update -all\n",
    "\n",
    "\n",
    "update all the project dependencies to the latest version\n",
    "\n",
    "### Folium\n",
    "##### Documentation\n",
    "https://python-visualization.github.io/folium/\n",
    "\n",
    "### Voila\n",
    "##### Documentation\n",
    "https://voila.readthedocs.io/en/latest/?badge=latest"
   ]
  },
  {
   "cell_type": "markdown",
   "metadata": {},
   "source": [
    "### pandas configuration"
   ]
  },
  {
   "cell_type": "code",
   "execution_count": 2,
   "metadata": {
    "ExecuteTime": {
     "end_time": "2020-05-05T23:08:59.064081Z",
     "start_time": "2020-05-05T23:08:59.058120Z"
    }
   },
   "outputs": [],
   "source": [
    "# pandas global configuration\n",
    "def set_pandas_display_options() -> None:\n",
    "    display = pd.options.display\n",
    "\n",
    "    display.max_columns = 100\n",
    "    display.max_rows = 500\n",
    "    display.max_colwidth = 200\n",
    "    display.width = None\n",
    "    # display.precision = 2  # set as needed\n",
    "\n",
    "set_pandas_display_options()"
   ]
  },
  {
   "cell_type": "code",
   "execution_count": 3,
   "metadata": {
    "ExecuteTime": {
     "end_time": "2020-05-05T23:08:59.072926Z",
     "start_time": "2020-05-05T23:08:59.069401Z"
    }
   },
   "outputs": [],
   "source": [
    "#utility functions"
   ]
  },
  {
   "cell_type": "code",
   "execution_count": 4,
   "metadata": {
    "ExecuteTime": {
     "end_time": "2020-05-05T23:08:59.082424Z",
     "start_time": "2020-05-05T23:08:59.076996Z"
    }
   },
   "outputs": [],
   "source": [
    "# date is currently seen as string\n",
    "def StringisNaN(string):\n",
    "    return string != string\n",
    "\n",
    "# apply log to any number\n",
    "def apply_log(x):\n",
    "    if x != 0:\n",
    "        return np.log(x)"
   ]
  },
  {
   "cell_type": "markdown",
   "metadata": {
    "ExecuteTime": {
     "end_time": "2020-05-03T14:48:58.613033Z",
     "start_time": "2020-05-03T14:48:58.601963Z"
    }
   },
   "source": [
    "<h4>We use the following data sources</h4>\n",
    "\n",
    "\n",
    "<ul>\n",
    "    <li><a href=\"https://raw.githubusercontent.com/CSSEGISandData/COVID-19/master/csse_covid_19_data/csse_covid_19_time_series/time_series_covid19_confirmed_global.csv\">covid confirmed cases</a></li>\n",
    "    <li><a href=\"https://raw.githubusercontent.com/CSSEGISandData/COVID-19/master/csse_covid_19_data/csse_covid_19_time_series/time_series_covid19_deaths_global.csv\">covid deaths timeseries</a></li>\n",
    "    <li><a href=\"https://raw.githubusercontent.com/CSSEGISandData/COVID-19/master/csse_covid_19_data/csse_covid_19_time_series/time_series_covid19_recovered_global.csv\">covid recovered cases</a></li>\n",
    "    <li><a href=\"https://raw.githubusercontent.com/nlucian/covid19/master/datasets/lockdown_country_dates.csv\"> covid lockdown dates</a></li>\n",
    "</ul>"
   ]
  },
  {
   "cell_type": "code",
   "execution_count": 5,
   "metadata": {
    "ExecuteTime": {
     "end_time": "2020-05-05T23:08:59.088920Z",
     "start_time": "2020-05-05T23:08:59.085710Z"
    }
   },
   "outputs": [],
   "source": [
    "# data loading and processing"
   ]
  },
  {
   "cell_type": "code",
   "execution_count": 6,
   "metadata": {
    "ExecuteTime": {
     "end_time": "2020-05-05T23:08:59.862939Z",
     "start_time": "2020-05-05T23:08:59.092942Z"
    }
   },
   "outputs": [],
   "source": [
    "numbers_confirmed = pd.read_csv('https://raw.githubusercontent.com/CSSEGISandData/COVID-19/master/csse_covid_19_data/csse_covid_19_time_series/time_series_covid19_confirmed_global.csv')\n",
    "numbers_dead = pd.read_csv('https://raw.githubusercontent.com/CSSEGISandData/COVID-19/master/csse_covid_19_data/csse_covid_19_time_series/time_series_covid19_deaths_global.csv')\n",
    "numbers_recovered = pd.read_csv('https://raw.githubusercontent.com/CSSEGISandData/COVID-19/master/csse_covid_19_data/csse_covid_19_time_series/time_series_covid19_recovered_global.csv')"
   ]
  },
  {
   "cell_type": "code",
   "execution_count": 7,
   "metadata": {
    "ExecuteTime": {
     "end_time": "2020-05-05T23:09:00.256029Z",
     "start_time": "2020-05-05T23:08:59.868540Z"
    }
   },
   "outputs": [
    {
     "data": {
      "text/html": [
       "<div>\n",
       "<style scoped>\n",
       "    .dataframe tbody tr th:only-of-type {\n",
       "        vertical-align: middle;\n",
       "    }\n",
       "\n",
       "    .dataframe tbody tr th {\n",
       "        vertical-align: top;\n",
       "    }\n",
       "\n",
       "    .dataframe thead th {\n",
       "        text-align: right;\n",
       "    }\n",
       "</style>\n",
       "<table border=\"1\" class=\"dataframe\">\n",
       "  <thead>\n",
       "    <tr style=\"text-align: right;\">\n",
       "      <th></th>\n",
       "      <th>Country/Region</th>\n",
       "      <th>Date</th>\n",
       "      <th>Type</th>\n",
       "      <th>Reference</th>\n",
       "    </tr>\n",
       "  </thead>\n",
       "  <tbody>\n",
       "    <tr>\n",
       "      <th>50</th>\n",
       "      <td>Romania</td>\n",
       "      <td>2020-03-25</td>\n",
       "      <td>Full</td>\n",
       "      <td>https://www.garda.com/crisis24/news-alerts/326626/romania-government-announces-lockdown-measures-on-march-25-update-2</td>\n",
       "    </tr>\n",
       "  </tbody>\n",
       "</table>\n",
       "</div>"
      ],
      "text/plain": [
       "   Country/Region        Date  Type  \\\n",
       "50        Romania  2020-03-25  Full   \n",
       "\n",
       "                                                                                                                Reference  \n",
       "50  https://www.garda.com/crisis24/news-alerts/326626/romania-government-announces-lockdown-measures-on-march-25-update-2  "
      ]
     },
     "execution_count": 7,
     "metadata": {},
     "output_type": "execute_result"
    }
   ],
   "source": [
    "lockdown_dates = pd.read_csv('https://raw.githubusercontent.com/nlucian/covid19/master/datasets/lockdown_country_dates.csv')\n",
    "lockdown_Romania=lockdown_dates.loc[lockdown_dates['Country/Region'] == 'Romania']\n",
    "\n",
    "lockdown_Romania.tail(5)"
   ]
  },
  {
   "cell_type": "code",
   "execution_count": 8,
   "metadata": {
    "ExecuteTime": {
     "end_time": "2020-05-05T23:09:00.360671Z",
     "start_time": "2020-05-05T23:09:00.262999Z"
    }
   },
   "outputs": [
    {
     "data": {
      "text/html": [
       "<div>\n",
       "<style scoped>\n",
       "    .dataframe tbody tr th:only-of-type {\n",
       "        vertical-align: middle;\n",
       "    }\n",
       "\n",
       "    .dataframe tbody tr th {\n",
       "        vertical-align: top;\n",
       "    }\n",
       "\n",
       "    .dataframe thead th {\n",
       "        text-align: right;\n",
       "    }\n",
       "</style>\n",
       "<table border=\"1\" class=\"dataframe\">\n",
       "  <thead>\n",
       "    <tr style=\"text-align: right;\">\n",
       "      <th></th>\n",
       "      <th>Province/State</th>\n",
       "      <th>Country/Region</th>\n",
       "      <th>Lat</th>\n",
       "      <th>Long</th>\n",
       "      <th>Date</th>\n",
       "      <th>Confirmed</th>\n",
       "    </tr>\n",
       "  </thead>\n",
       "  <tbody>\n",
       "    <tr>\n",
       "      <th>27925</th>\n",
       "      <td></td>\n",
       "      <td>Western Sahara</td>\n",
       "      <td>24.215500</td>\n",
       "      <td>-12.885800</td>\n",
       "      <td>5/5/20</td>\n",
       "      <td>6</td>\n",
       "    </tr>\n",
       "    <tr>\n",
       "      <th>27926</th>\n",
       "      <td></td>\n",
       "      <td>Sao Tome and Principe</td>\n",
       "      <td>0.186360</td>\n",
       "      <td>6.613081</td>\n",
       "      <td>5/5/20</td>\n",
       "      <td>174</td>\n",
       "    </tr>\n",
       "    <tr>\n",
       "      <th>27927</th>\n",
       "      <td></td>\n",
       "      <td>Yemen</td>\n",
       "      <td>15.552727</td>\n",
       "      <td>48.516388</td>\n",
       "      <td>5/5/20</td>\n",
       "      <td>22</td>\n",
       "    </tr>\n",
       "    <tr>\n",
       "      <th>27928</th>\n",
       "      <td></td>\n",
       "      <td>Comoros</td>\n",
       "      <td>-11.645500</td>\n",
       "      <td>43.333300</td>\n",
       "      <td>5/5/20</td>\n",
       "      <td>3</td>\n",
       "    </tr>\n",
       "    <tr>\n",
       "      <th>27929</th>\n",
       "      <td></td>\n",
       "      <td>Tajikistan</td>\n",
       "      <td>38.861034</td>\n",
       "      <td>71.276093</td>\n",
       "      <td>5/5/20</td>\n",
       "      <td>293</td>\n",
       "    </tr>\n",
       "  </tbody>\n",
       "</table>\n",
       "</div>"
      ],
      "text/plain": [
       "      Province/State         Country/Region        Lat       Long    Date  \\\n",
       "27925                        Western Sahara  24.215500 -12.885800  5/5/20   \n",
       "27926                 Sao Tome and Principe   0.186360   6.613081  5/5/20   \n",
       "27927                                 Yemen  15.552727  48.516388  5/5/20   \n",
       "27928                               Comoros -11.645500  43.333300  5/5/20   \n",
       "27929                            Tajikistan  38.861034  71.276093  5/5/20   \n",
       "\n",
       "       Confirmed  \n",
       "27925          6  \n",
       "27926        174  \n",
       "27927         22  \n",
       "27928          3  \n",
       "27929        293  "
      ]
     },
     "execution_count": 8,
     "metadata": {},
     "output_type": "execute_result"
    }
   ],
   "source": [
    "# this part is unpivotting the table from the wide format to the long format\n",
    "confirmed_long = numbers_confirmed.melt(id_vars=[\"Province/State\", \"Country/Region\", \"Lat\", \"Long\"], var_name=\"Date\", value_name=\"Confirmed\").fillna('')\n",
    "dead_long = numbers_dead.melt(id_vars=[\"Province/State\", \"Country/Region\", \"Lat\", \"Long\"], var_name=\"Date\", value_name=\"Deaths\").fillna('')\n",
    "recovered_long = numbers_recovered.melt(id_vars=[\"Province/State\", \"Country/Region\", \"Lat\", \"Long\"], var_name=\"Date\", value_name=\"Recovered\").fillna('')\n",
    "\n",
    "confirmed_long.tail(5)"
   ]
  },
  {
   "cell_type": "code",
   "execution_count": 9,
   "metadata": {
    "ExecuteTime": {
     "end_time": "2020-05-05T23:09:00.593533Z",
     "start_time": "2020-05-05T23:09:00.366597Z"
    }
   },
   "outputs": [
    {
     "data": {
      "text/html": [
       "<div>\n",
       "<style scoped>\n",
       "    .dataframe tbody tr th:only-of-type {\n",
       "        vertical-align: middle;\n",
       "    }\n",
       "\n",
       "    .dataframe tbody tr th {\n",
       "        vertical-align: top;\n",
       "    }\n",
       "\n",
       "    .dataframe thead th {\n",
       "        text-align: right;\n",
       "    }\n",
       "</style>\n",
       "<table border=\"1\" class=\"dataframe\">\n",
       "  <thead>\n",
       "    <tr style=\"text-align: right;\">\n",
       "      <th></th>\n",
       "      <th>Deaths</th>\n",
       "      <th>Confirmed</th>\n",
       "      <th>Recovered</th>\n",
       "    </tr>\n",
       "    <tr>\n",
       "      <th>Date</th>\n",
       "      <th></th>\n",
       "      <th></th>\n",
       "      <th></th>\n",
       "    </tr>\n",
       "  </thead>\n",
       "  <tbody>\n",
       "    <tr>\n",
       "      <th>5/1/20</th>\n",
       "      <td>134521.0</td>\n",
       "      <td>1738674.0</td>\n",
       "      <td>676486.0</td>\n",
       "    </tr>\n",
       "    <tr>\n",
       "      <th>5/2/20</th>\n",
       "      <td>5034.0</td>\n",
       "      <td>81716.0</td>\n",
       "      <td>39533.0</td>\n",
       "    </tr>\n",
       "    <tr>\n",
       "      <th>5/3/20</th>\n",
       "      <td>3548.0</td>\n",
       "      <td>76777.0</td>\n",
       "      <td>30834.0</td>\n",
       "    </tr>\n",
       "    <tr>\n",
       "      <th>5/4/20</th>\n",
       "      <td>3855.0</td>\n",
       "      <td>74805.0</td>\n",
       "      <td>36089.0</td>\n",
       "    </tr>\n",
       "    <tr>\n",
       "      <th>5/5/20</th>\n",
       "      <td>5508.0</td>\n",
       "      <td>78284.0</td>\n",
       "      <td>34893.0</td>\n",
       "    </tr>\n",
       "  </tbody>\n",
       "</table>\n",
       "</div>"
      ],
      "text/plain": [
       "          Deaths  Confirmed  Recovered\n",
       "Date                                  \n",
       "5/1/20  134521.0  1738674.0   676486.0\n",
       "5/2/20    5034.0    81716.0    39533.0\n",
       "5/3/20    3548.0    76777.0    30834.0\n",
       "5/4/20    3855.0    74805.0    36089.0\n",
       "5/5/20    5508.0    78284.0    34893.0"
      ]
     },
     "execution_count": 9,
     "metadata": {},
     "output_type": "execute_result"
    }
   ],
   "source": [
    "# turn the 3 different tables into a single table with all the information, confirmed, dead and recovered\n",
    "\n",
    "daily_info = dead_long.merge(confirmed_long).merge(recovered_long).drop(['Lat', 'Long'], axis=1)\n",
    "daily_info.tail(5)\n",
    "\n",
    "daily_sum=daily_info.groupby(['Date'],as_index=True).sum()\n",
    "daily_sum.tail(5)\n",
    "\n",
    "#calculate daily values of deaths, confirmed and recovered \n",
    "daily_values=daily_sum.diff(periods=1)\n",
    "daily_values.tail(5)"
   ]
  },
  {
   "cell_type": "code",
   "execution_count": 10,
   "metadata": {
    "ExecuteTime": {
     "end_time": "2020-05-05T23:09:00.627780Z",
     "start_time": "2020-05-05T23:09:00.597371Z"
    }
   },
   "outputs": [],
   "source": [
    "daily_info['Date'] = pd.to_datetime(daily_info['Date'])"
   ]
  },
  {
   "cell_type": "code",
   "execution_count": 11,
   "metadata": {
    "ExecuteTime": {
     "end_time": "2020-05-05T23:09:00.637163Z",
     "start_time": "2020-05-05T23:09:00.631510Z"
    }
   },
   "outputs": [],
   "source": [
    "# project constant values\n",
    "# the dataset is updated daily - we need the values of confirmed cases for the last date\n",
    "\n",
    "CONFIRMED_last_date = numbers_confirmed.columns.to_list()[-1]\n",
    "DEATHS_last_date    = numbers_dead.columns.to_list()[-1]\n",
    "RECOVERED_last_date = numbers_recovered.columns.to_list()[-1]"
   ]
  },
  {
   "cell_type": "code",
   "execution_count": 12,
   "metadata": {
    "ExecuteTime": {
     "end_time": "2020-05-05T23:09:00.646791Z",
     "start_time": "2020-05-05T23:09:00.641520Z"
    }
   },
   "outputs": [],
   "source": [
    "# data preparation for maps"
   ]
  },
  {
   "cell_type": "code",
   "execution_count": 13,
   "metadata": {
    "ExecuteTime": {
     "end_time": "2020-05-05T23:09:00.661163Z",
     "start_time": "2020-05-05T23:09:00.650136Z"
    }
   },
   "outputs": [],
   "source": [
    "# we only need the country and the total cases for now\n",
    "df1 = numbers_confirmed.loc[:,'Province/State' : 'Long']\n",
    "df2 = numbers_confirmed.iloc[:,-1]\n",
    "\n",
    "frames = [df1, df2]\n",
    "\n",
    "confirmed_cases_temp = pd.concat(frames, axis = 1)"
   ]
  },
  {
   "cell_type": "code",
   "execution_count": 14,
   "metadata": {
    "ExecuteTime": {
     "end_time": "2020-05-05T23:09:00.679530Z",
     "start_time": "2020-05-05T23:09:00.665024Z"
    }
   },
   "outputs": [],
   "source": [
    "confirmed_cases = confirmed_cases_temp.groupby(['Country/Region'], as_index=False)[CONFIRMED_last_date].sum()"
   ]
  },
  {
   "cell_type": "code",
   "execution_count": 15,
   "metadata": {
    "ExecuteTime": {
     "end_time": "2020-05-05T23:09:00.734226Z",
     "start_time": "2020-05-05T23:09:00.684942Z"
    }
   },
   "outputs": [
    {
     "name": "stdout",
     "output_type": "stream",
     "text": [
      "For country 'Denmark' defining its province 'Greenland' as a country.\n",
      "Province_cases 11\n",
      "value after group by 10019\n",
      "Province cases final value 10008\n",
      "Appending country Greenland with cases 11\n"
     ]
    }
   ],
   "source": [
    "array_of_provinces = {'Denmark': 'Greenland'}\n",
    "\n",
    "# we want to define some provinces as individual countries\n",
    "# since we already do a group by we also have to subtract the number of cases from the group by reuslts\n",
    "def keep_provinces_as_countries(provinces, df_before_grp_by, df_after_grp_by, last_column_date_string):\n",
    "    for country in provinces:\n",
    "        print(\"For country '{}' defining its province '{}' as a country.\".format(country, provinces.get(country)))\n",
    "        province_cases = df_before_grp_by[df_before_grp_by['Province/State'] == provinces.get(country)][last_column_date_string]\n",
    "        \n",
    "        province_cases_value = province_cases.to_list()[0]\n",
    "        print(\"Province_cases {}\".format(province_cases_value))\n",
    "        \n",
    "        to_subtract_from = df_after_grp_by.loc[df_after_grp_by['Country/Region'] == country, [last_column_date_string]][last_column_date_string].to_list()[0]\n",
    "        print(\"value after group by {}\".format(to_subtract_from))\n",
    "        \n",
    "        final_value = to_subtract_from - province_cases_value\n",
    "        print(\"Province cases final value {}\".format(final_value))\n",
    "        \n",
    "        df_after_grp_by.loc[df_after_grp_by['Country/Region'] == country ,[last_column_date_string]]  = final_value\n",
    "        \n",
    "        print(\"Appending country {} with cases {}\".format(provinces.get(country), province_cases_value))\n",
    "        return df_after_grp_by.append({'Country/Region' : provinces.get(country), str(CONFIRMED_last_date) : province_cases_value}, ignore_index=True)\n",
    "    \n",
    "confirmed_cases = keep_provinces_as_countries(array_of_provinces, confirmed_cases_temp, confirmed_cases, CONFIRMED_last_date)\n",
    "    "
   ]
  },
  {
   "cell_type": "code",
   "execution_count": 16,
   "metadata": {
    "ExecuteTime": {
     "end_time": "2020-05-05T23:09:00.752506Z",
     "start_time": "2020-05-05T23:09:00.739422Z"
    }
   },
   "outputs": [],
   "source": [
    "confirmed_cases = confirmed_cases.rename(columns = {'Country/Region': 'country', CONFIRMED_last_date: 'covid_cases'})"
   ]
  },
  {
   "cell_type": "code",
   "execution_count": 17,
   "metadata": {
    "ExecuteTime": {
     "end_time": "2020-05-05T23:09:00.768435Z",
     "start_time": "2020-05-05T23:09:00.758591Z"
    }
   },
   "outputs": [],
   "source": [
    "confirmed_cases = confirmed_cases.sort_values(by = ['covid_cases'], ascending=False)"
   ]
  },
  {
   "cell_type": "code",
   "execution_count": 18,
   "metadata": {
    "ExecuteTime": {
     "end_time": "2020-05-05T23:09:02.019039Z",
     "start_time": "2020-05-05T23:09:00.773934Z"
    }
   },
   "outputs": [],
   "source": [
    "# Load GeoJSON of countries\n",
    "countries_geojson = gmaps.geojson_geometries.load_geometry('countries') "
   ]
  },
  {
   "cell_type": "code",
   "execution_count": 19,
   "metadata": {
    "ExecuteTime": {
     "end_time": "2020-05-05T23:09:02.036147Z",
     "start_time": "2020-05-05T23:09:02.027678Z"
    }
   },
   "outputs": [],
   "source": [
    "dict_confirmed_cases = pd.Series(confirmed_cases.covid_cases.values, index=confirmed_cases.country).to_dict()"
   ]
  },
  {
   "cell_type": "markdown",
   "metadata": {},
   "source": [
    "### update keys to match the geojson namings"
   ]
  },
  {
   "cell_type": "markdown",
   "metadata": {},
   "source": [
    "The left-hand side is the gmaps definition of countries which must be mapped to the github source of covid cases per country.\n",
    "\n",
    "There are 3 cases:\n",
    "\n",
    "There is either no  mapping at all since the github repo does not track the number of cases for the given country;\n",
    "There is a name mismatching  which must be corrected;\n",
    "The region/country in gmaps is part of a country so we cumulate the cases under the mother country;\n",
    "\n",
    "eg.  if the name is wrong -> replacement of the github country name with the gmaps naming;\n",
    "eg.  if some islands like Cayman Islands are owned by UK we display it under UK;\n",
    "eg. no country present in github from the gmap list (since we iterate through all the countries, we just ignore it)\n",
    "\n",
    "<ul>\n",
    "    <li>Aland -> not found</li>\n",
    "    <li>America Samoa ->  not found</li>\n",
    "    <li>Antarctica -> not found</li>\n",
    "    <li>French Southern and Antarctic Lands -> not found</li>\n",
    "    <li>Northern Cyprus -> Cyprus</li>\n",
    "    <li>Cayman Islands -> UK</li>\n",
    "    <li>Curacao -> Netherlands</li>\n",
    "    <li>The Bahamas -> Bahamas</li>\n",
    "    <li>Repubulc of Congo -> Congo (Brazzavilli)</li>\n",
    "    <li>Democratic Repubulc of the Congo -> Congo (Kinshasa)</li>\n",
    "    <li>Comoros -> not found</li>\n",
    "    <li>Cape Verde -> Cabo Verde</li>\n",
    "    <li>Curaçao -> Netherlands</li>\n",
    "    <li>Cayman Islands -> UK</li>\n",
    "    <li>Falkland Islands -> UK</li>\n",
    "    <li>Faroe Islands -> Denmark</li>\n",
    "    <li>Federated States of Micronesia -> not found</li>\n",
    "    <li>Guinea-Bissau -> Guinea Bissau</li>\n",
    "    <li>Hong Kong S.A.R -> China</li>\n",
    "    <li>Isli of Man -> UK</li>\n",
    "    <li>Baykonur Cosmodrome -> not found</li>\n",
    "    <li>Siachen Glacier -> not found</li>\n",
    "    <li>South Korea -> Korea, South</li>\n",
    "    <li>Lesotho -> not found</li>\n",
    "    <li>North Macedonia -> Macedonia</li>\n",
    "    <li>Myanmar -> Burma</li>\n",
    "    <li>Northern Mariana Islands -> not found</li>\n",
    "    <li>New Calidonia -> France</li>\n",
    "    <li>Niue -> not found</li>\n",
    "    <li>Palau -> not found</li>\n",
    "    <li>North Korea -> Kim Jong is hiding these days </li>\n",
    "    <li>Palistine -> not found</li>\n",
    "    <li>French Polynesia -> France</li>\n",
    "    <li>Solomon Islands -> not found</li>\n",
    "    <li>Saint helina -> not found</li>\n",
    "    <li>South Georgia and South Sandwich Islands -> not found</li>\n",
    "    <li>Somaulland -> not found</li>\n",
    "    <li>Saint Pierre and Miquelon,France -> France</li>\n",
    "    <li>Repubulc of Serbia -> Serbia</li>\n",
    "    <li>Swaziland -> not found</li>\n",
    "    <li>Tajikistan -> not found</li>\n",
    "    <li>East Timor -> Timor-Leste</li>\n",
    "    <li>Turkmenistan -> not found</li>\n",
    "    <li>Taiwan -> Taiwan*</li>\n",
    "    <li>United States Virgin Islands-> UK</li>\n",
    "    <li>Samoa -> not found</li>\n",
    "    <li>Yemen -> not found</li>\n",
    "    \n",
    "<ul/>"
   ]
  },
  {
   "cell_type": "code",
   "execution_count": 20,
   "metadata": {
    "ExecuteTime": {
     "end_time": "2020-05-05T23:09:02.049861Z",
     "start_time": "2020-05-05T23:09:02.042956Z"
    }
   },
   "outputs": [],
   "source": [
    "def replace_country_key(old_key, new_key, dictionary):\n",
    "    try:\n",
    "        dictionary[new_key] = dictionary[old_key]\n",
    "        del dict_confirmed_cases[old_key]\n",
    "    except Exception as e:\n",
    "        print(\"Error while mapping country {} or country already mapped.\".format(str(e)))"
   ]
  },
  {
   "cell_type": "code",
   "execution_count": 21,
   "metadata": {
    "ExecuteTime": {
     "end_time": "2020-05-05T23:09:02.067132Z",
     "start_time": "2020-05-05T23:09:02.055372Z"
    }
   },
   "outputs": [],
   "source": [
    "# name mapping error\n",
    "replace_country_key('US', 'United States of America', dict_confirmed_cases)\n",
    "replace_country_key('Bahamas', 'The Bahamas', dict_confirmed_cases)\n",
    "replace_country_key('Czechia', 'Czech Republic', dict_confirmed_cases)\n",
    "\n",
    "replace_country_key('Congo (Brazzaville)', 'Republic of Congo', dict_confirmed_cases)\n",
    "replace_country_key('Congo (Kinshasa)', 'Democratic Republic of the Congo', dict_confirmed_cases)\n",
    "\n",
    "replace_country_key('Cabo Verde', 'Cape Verde', dict_confirmed_cases)\n",
    "replace_country_key('Guinea-Bissau', 'Guinea Bissau', dict_confirmed_cases)\n",
    "replace_country_key('Korea, South', 'South Korea', dict_confirmed_cases)\n",
    "replace_country_key('North Macedonia', 'Macedonia', dict_confirmed_cases)\n",
    "replace_country_key('Burma','Myanmar', dict_confirmed_cases)\n",
    "replace_country_key('Serbia', 'Republic of Serbia', dict_confirmed_cases)\n",
    "replace_country_key('Timor-Leste', 'East Timor', dict_confirmed_cases)\n",
    "replace_country_key('Taiwan*', 'Taiwan', dict_confirmed_cases)\n",
    "replace_country_key('Tanzania', 'United Republic of Tanzania', dict_confirmed_cases)"
   ]
  },
  {
   "cell_type": "code",
   "execution_count": 22,
   "metadata": {
    "ExecuteTime": {
     "end_time": "2020-05-05T23:09:02.079400Z",
     "start_time": "2020-05-05T23:09:02.072415Z"
    }
   },
   "outputs": [],
   "source": [
    "# custom data for some of the next map trials"
   ]
  },
  {
   "cell_type": "code",
   "execution_count": 23,
   "metadata": {
    "ExecuteTime": {
     "end_time": "2020-05-05T23:09:02.093796Z",
     "start_time": "2020-05-05T23:09:02.083527Z"
    }
   },
   "outputs": [],
   "source": [
    "dict_confirmed_cases\n",
    "dict_confirmed_cases_df = pd.DataFrame(list(dict_confirmed_cases.items()), \n",
    "                                       columns = ['countries','covid_cases']) \n",
    "\n",
    "dict_confirmed_cases_df['countries'] = dict_confirmed_cases_df['countries'].astype(str)"
   ]
  },
  {
   "cell_type": "markdown",
   "metadata": {},
   "source": [
    "### Worldmap with total cases"
   ]
  },
  {
   "cell_type": "markdown",
   "metadata": {},
   "source": [
    "#### select the color you wish to generate the map with"
   ]
  },
  {
   "cell_type": "code",
   "execution_count": 24,
   "metadata": {
    "ExecuteTime": {
     "end_time": "2020-05-05T23:09:02.104577Z",
     "start_time": "2020-05-05T23:09:02.099209Z"
    }
   },
   "outputs": [],
   "source": [
    "import ipywidgets as widgets\n",
    "from IPython.display import display, clear_output"
   ]
  },
  {
   "cell_type": "code",
   "execution_count": 25,
   "metadata": {
    "ExecuteTime": {
     "end_time": "2020-05-05T23:09:02.124461Z",
     "start_time": "2020-05-05T23:09:02.109748Z"
    }
   },
   "outputs": [
    {
     "name": "stdout",
     "output_type": "stream",
     "text": [
      "1.0986122886681098\n",
      "14.001451390604005\n"
     ]
    }
   ],
   "source": [
    "dict_confirmed_cases_df['covid_cases'] =  dict_confirmed_cases_df['covid_cases'].astype(int)\n",
    "dict_confirmed_cases_df['covid_cases'] =  dict_confirmed_cases_df['covid_cases'].apply(apply_log)\n",
    "\n",
    "\n",
    "print(dict_confirmed_cases_df['covid_cases'].min())\n",
    "print(dict_confirmed_cases_df['covid_cases'].max())"
   ]
  },
  {
   "cell_type": "code",
   "execution_count": 26,
   "metadata": {
    "ExecuteTime": {
     "end_time": "2020-05-05T23:09:02.140195Z",
     "start_time": "2020-05-05T23:09:02.128660Z"
    }
   },
   "outputs": [],
   "source": [
    "def generate_covid_map(fill_color):\n",
    "\n",
    "    legend_name = 'COVID-19 cases worldwide'\n",
    "    m3 = folium.Map(location=[51.505, -0.09], tiles='cartodbpositron', max_bounds=True,\n",
    "                   zoom_start=1.5, min_zoom = 2)\n",
    "\n",
    "    folium.Choropleth(\n",
    "        geo_data=countries_geojson,\n",
    "        data=dict_confirmed_cases_df,\n",
    "        fill_color=fill_color,\n",
    "        legend_named='COVID-19 cases worldwide (log scale)',\n",
    "        columns=['countries', 'covid_cases'],\n",
    "        key_on='feature.properties.name',\n",
    "        fill_opacity=0.9,\n",
    "        line_opacity=0.1,\n",
    "        nan_fill_color='ffffff'\n",
    "    ).add_to(m3)\n",
    "    \n",
    "    display(m3)"
   ]
  },
  {
   "cell_type": "code",
   "execution_count": 27,
   "metadata": {
    "ExecuteTime": {
     "end_time": "2020-05-05T23:09:02.160892Z",
     "start_time": "2020-05-05T23:09:02.146052Z"
    }
   },
   "outputs": [],
   "source": [
    "map_output_widget = widgets.Output()"
   ]
  },
  {
   "cell_type": "code",
   "execution_count": 28,
   "metadata": {
    "ExecuteTime": {
     "end_time": "2020-05-05T23:09:02.191194Z",
     "start_time": "2020-05-05T23:09:02.164506Z"
    },
    "scrolled": true
   },
   "outputs": [
    {
     "data": {
      "application/vnd.jupyter.widget-view+json": {
       "model_id": "16f7353c323643898f379b9ff5e12b6e",
       "version_major": 2,
       "version_minor": 0
      },
      "text/plain": [
       "Dropdown(description='Colors', options={'Green': 'BuGn', 'Red': 'RdPu'}, value=None)"
      ]
     },
     "metadata": {},
     "output_type": "display_data"
    },
    {
     "data": {
      "application/vnd.jupyter.widget-view+json": {
       "model_id": "75f4d7c6b73b450ca8a7f2057fd82d78",
       "version_major": 2,
       "version_minor": 0
      },
      "text/plain": [
       "Output()"
      ]
     },
     "metadata": {},
     "output_type": "display_data"
    }
   ],
   "source": [
    "map_colors =  {'Green':'BuGn', 'Red':'RdPu'}\n",
    "\n",
    "select_variable = widgets.Dropdown(\n",
    "    options=map_colors,\n",
    "    value=map_colors.get('Blue'),\n",
    "    description='Colors'\n",
    ")\n",
    "\n",
    "def get_and_plot(b):\n",
    "    with map_output_widget:\n",
    "        clear_output()\n",
    "        print(select_variable.value)\n",
    "        generate_covid_map(select_variable.value)\n",
    "        \n",
    "select_variable.observe(get_and_plot, names='value')\n",
    "\n",
    "display(select_variable)\n",
    "display(map_output_widget)"
   ]
  },
  {
   "cell_type": "markdown",
   "metadata": {},
   "source": [
    "### healed vs deaths percentage"
   ]
  },
  {
   "cell_type": "code",
   "execution_count": 29,
   "metadata": {
    "ExecuteTime": {
     "end_time": "2020-05-05T23:09:02.344331Z",
     "start_time": "2020-05-05T23:09:02.194399Z"
    }
   },
   "outputs": [],
   "source": [
    "# turn the 3 different tables into a single table with all the information, confirmed, dead and recovered\n",
    "daily_info = dead_long.merge(confirmed_long).merge(recovered_long).drop(['Lat', 'Long'], axis=1)\n",
    "daily_sum  = daily_info.groupby(['Date'],as_index=True).sum()\n",
    "\n",
    "#calculate daily values of deaths, confirmed and recovered \n",
    "daily_values = daily_sum.diff(periods=1)"
   ]
  },
  {
   "cell_type": "code",
   "execution_count": 30,
   "metadata": {
    "ExecuteTime": {
     "end_time": "2020-05-05T23:09:02.358754Z",
     "start_time": "2020-05-05T23:09:02.349367Z"
    }
   },
   "outputs": [],
   "source": [
    "daily_sum['death_percentage'] = daily_sum['Deaths']/daily_sum['Confirmed'] *100\n",
    "daily_sum['heal_percentage']  = daily_sum['Recovered']/daily_sum['Confirmed'] *100"
   ]
  },
  {
   "cell_type": "code",
   "execution_count": 31,
   "metadata": {
    "ExecuteTime": {
     "end_time": "2020-05-05T23:09:02.369389Z",
     "start_time": "2020-05-05T23:09:02.362722Z"
    }
   },
   "outputs": [],
   "source": [
    "daily_sum.reset_index(level=0, inplace=True)"
   ]
  },
  {
   "cell_type": "code",
   "execution_count": 32,
   "metadata": {
    "ExecuteTime": {
     "end_time": "2020-05-05T23:09:04.247721Z",
     "start_time": "2020-05-05T23:09:02.373447Z"
    }
   },
   "outputs": [
    {
     "data": {
      "image/png": "[encoded data removed]",
      "text/plain": [
       "<Figure size 1440x720 with 1 Axes>"
      ]
     },
     "metadata": {},
     "output_type": "display_data"
    }
   ],
   "source": [
    "def plotHealDeathPercentage():   \n",
    "        plt.style.use(\"cyberpunk\")\n",
    "        fig = plt.figure(figsize=(20,10))\n",
    "        \n",
    "        plt.locator_params(axis='x', nbins=15)\n",
    "        \n",
    "        plt.plot(daily_sum['Date'], daily_sum['death_percentage'], label = 'Death Percentage')\n",
    "        plt.plot(daily_sum['Date'], daily_sum['heal_percentage'], label = 'Heal Percentage')\n",
    "        \n",
    "        plt.legend(loc=2, prop={'size': 18})\n",
    "        plt.xticks(rotation=90, ha='right', fontsize=\"x-large\")\n",
    "        plt.yticks(fontsize=\"x-large\")\n",
    "        \n",
    "        ax = plt.gca()\n",
    "        temp = ax.xaxis.get_ticklabels()\n",
    "        temp = list(set(temp) - set(temp[::3]))\n",
    "        for label in temp:\n",
    "            label.set_visible(False)\n",
    "        \n",
    "        \n",
    "        mplcyberpunk.make_lines_glow(ax)\n",
    "\n",
    "\n",
    "        plt.show()\n",
    "\n",
    "plotHealDeathPercentage()"
   ]
  },
  {
   "cell_type": "markdown",
   "metadata": {},
   "source": [
    "### Countries Investigated "
   ]
  },
  {
   "cell_type": "code",
   "execution_count": 33,
   "metadata": {
    "ExecuteTime": {
     "end_time": "2020-05-05T23:09:04.258774Z",
     "start_time": "2020-05-05T23:09:04.250990Z"
    }
   },
   "outputs": [],
   "source": [
    "# data modeling for the investigated countries plot\n",
    "\n",
    "def dataFrameForCountry(country):\n",
    "    country_data=daily_info.loc[daily_info['Country/Region'] == country]\n",
    "    country_data=country_data.drop([\"Province/State\",\"Country/Region\"], axis=1)\n",
    "    country_data.set_index('Date', inplace = True) \n",
    "\n",
    "    country_data_daily = country_data.diff(periods=1)\n",
    "    country_data_daily = country_data_daily[(country_data_daily > 0).any(axis=1)]\n",
    "\n",
    "    country_data_daily['DateOf'] = country_data_daily.index\n",
    "    return country_data_daily\n",
    "    "
   ]
  },
  {
   "cell_type": "code",
   "execution_count": 34,
   "metadata": {
    "ExecuteTime": {
     "end_time": "2020-05-05T23:09:04.295463Z",
     "start_time": "2020-05-05T23:09:04.261820Z"
    },
    "scrolled": false
   },
   "outputs": [
    {
     "data": {
      "application/vnd.jupyter.widget-view+json": {
       "model_id": "8026b17caa0749f6a5c28fd977fadd60",
       "version_major": 2,
       "version_minor": 0
      },
      "text/plain": [
       "VBox(children=(Output(), Dropdown(description='Countries', options=('Romania', 'Italy', 'Sweden', 'Belarus', '…"
      ]
     },
     "metadata": {},
     "output_type": "display_data"
    }
   ],
   "source": [
    "countries_Investigated = ['Romania', 'Italy', 'Sweden', 'Belarus','Iran','Belgium', 'Poland','Germany', 'Brazil','Mexico','Russia','Turkey','Indonesia','Egypt','Portugal','Ukraine','Pakistan','Hungary']\n",
    "select_countries = widgets.Dropdown(\n",
    "    options=countries_Investigated,\n",
    "    value=countries_Investigated[0],\n",
    "    description='Countries'\n",
    ")\n",
    "\n",
    "ci_output = widgets.Output()\n",
    "display(widgets.VBox([ci_output, select_countries]))"
   ]
  },
  {
   "cell_type": "code",
   "execution_count": 39,
   "metadata": {
    "ExecuteTime": {
     "end_time": "2020-05-05T23:09:04.311410Z",
     "start_time": "2020-05-05T23:09:04.298579Z"
    }
   },
   "outputs": [],
   "source": [
    "@ci_output.capture()\n",
    "def RestrictionsEffectForCountry(country):\n",
    "    plt.style.use(\"cyberpunk\")\n",
    "    \n",
    "    dataFrame = dataFrameForCountry(country)\n",
    "    \n",
    "    dataFrame.plot(y=['Confirmed','Deaths','Recovered'],kind='bar',figsize=(20,10),color=['orange','darkred','lightgreen'])\n",
    "\n",
    "\n",
    "    lockdown_date_type=lockdown_dates.loc[lockdown_dates['Country/Region'] == country]\n",
    "  \n",
    "    if(not(StringisNaN(lockdown_date_type.iloc[0]['Date']))):\n",
    "        date_format = \"%Y-%m-%d\"\n",
    "        \n",
    "        first_lockdown_measure=datetime.strptime(lockdown_date_type.iloc[0]['Date'],date_format)\n",
    "        first_case_date=datetime.strptime(str(dataFrame.iloc[0]['DateOf']),'%m/%d/%y')\n",
    "        delta = first_lockdown_measure - first_case_date\n",
    "        plt.axvspan(0, delta.days, facecolor='#FFFF33', alpha=0.5,zorder=0.1)\n",
    "        plt.axvspan(delta.days, len(dataFrame.index), facecolor='green', alpha=0.5,zorder=0.1)\n",
    "        plt.suptitle(country+' (quarantine started on '+ first_lockdown_measure.strftime(\"%Y-%m-%d\")+')', fontsize=15)\n",
    "    else:\n",
    "        plt.suptitle(country+' (no quarantine)', fontsize=15)\n",
    "    plt.legend(loc=1, prop={'size': 15})\n",
    "    ax = plt.gca()\n",
    "    temp = ax.xaxis.get_ticklabels()\n",
    "    temp = list(set(temp) - set(temp[::3]))\n",
    "    for label in temp:\n",
    "        label.set_visible(False)\n",
    "    x_axis = ax.axes.get_xaxis()\n",
    "    x_axis.set_label_text('')\n",
    "    ax.tick_params(axis='both', which='major', labelsize=15)\n",
    "    ax.tick_params(axis='both', which='minor', labelsize=15)\n",
    "    mplcyberpunk.make_lines_glow(ax)    \n",
    "    plt.show()\n",
    "    "
   ]
  },
  {
   "cell_type": "code",
   "execution_count": 36,
   "metadata": {
    "ExecuteTime": {
     "end_time": "2020-05-05T23:09:04.322889Z",
     "start_time": "2020-05-05T23:09:04.316985Z"
    }
   },
   "outputs": [],
   "source": [
    "def plot_investigated_countries(a):\n",
    "    with ci_output:\n",
    "        clear_output()\n",
    "        print(select_countries.value)\n",
    "        RestrictionsEffectForCountry(select_countries.value)\n",
    "\n",
    "select_countries.observe(plot_investigated_countries, names='value')"
   ]
  },
  {
   "cell_type": "markdown",
   "metadata": {},
   "source": [
    "### General Information"
   ]
  },
  {
   "cell_type": "code",
   "execution_count": 37,
   "metadata": {
    "ExecuteTime": {
     "end_time": "2020-05-05T23:09:04.333070Z",
     "start_time": "2020-05-05T23:09:04.327245Z"
    }
   },
   "outputs": [
    {
     "data": {
      "text/plain": [
       "'5/5/20'"
      ]
     },
     "execution_count": 37,
     "metadata": {},
     "output_type": "execute_result"
    }
   ],
   "source": [
    "CONFIRMED_last_date #CONFIRMED_last_date = numbers_confirmed.columns.to_list()[-1]"
   ]
  },
  {
   "cell_type": "code",
   "execution_count": null,
   "metadata": {
    "ExecuteTime": {
     "end_time": "2020-05-05T23:09:04.349587Z",
     "start_time": "2020-05-05T23:09:04.337825Z"
    }
   },
   "outputs": [],
   "source": [
    "total_confirmed_case = numbers_confirmed[CONFIRMED_last_date].sum()\n",
    "print(f\"{total_confirmed_case:,} confirmed cases\")\n",
    "\n",
    "total_recovered_cases = numbers_recovered[RECOVERED_last_date].sum()\n",
    "print(f\"{total_recovered_cases:,} recovered\")\n",
    "\n",
    "total_deaths = numbers_dead[RECOVERED_last_date].sum()\n",
    "print(f\"{total_deaths:,} deaths\")"
   ]
  },
  {
   "cell_type": "code",
   "execution_count": null,
   "metadata": {},
   "outputs": [],
   "source": []
  }
 ],
 "metadata": {
  "kernelspec": {
   "display_name": "Python 3",
   "language": "python",
   "name": "python3"
  },
  "language_info": {
   "codemirror_mode": {
    "name": "ipython",
    "version": 3
   },
   "file_extension": ".py",
   "mimetype": "text/x-python",
   "name": "python",
   "nbconvert_exporter": "python",
   "pygments_lexer": "ipython3",
   "version": "3.7.6"
  }
 },
 "nbformat": 4,
 "nbformat_minor": 2
}
